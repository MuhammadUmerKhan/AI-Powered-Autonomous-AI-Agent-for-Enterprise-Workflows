{
 "cells": [
  {
   "cell_type": "markdown",
   "metadata": {},
   "source": [
    "## <center>**🚀 Data Cleaning && Feature Engineering**"
   ]
  },
  {
   "cell_type": "markdown",
   "metadata": {},
   "source": [
    "#### **Import necessary libraries**"
   ]
  },
  {
   "cell_type": "code",
   "execution_count": 1,
   "metadata": {},
   "outputs": [],
   "source": [
    "import pandas as pd\n",
    "import numpy as np, os\n",
    "import matplotlib.pyplot as plt\n",
    "import seaborn as sns\n",
    "import yfinance as yf\n",
    "\n",
    "# Set visualization style\n",
    "plt.style.use('ggplot')"
   ]
  },
  {
   "cell_type": "markdown",
   "metadata": {},
   "source": [
    "## **📌 Step 1: Load Data**"
   ]
  },
  {
   "cell_type": "markdown",
   "metadata": {},
   "source": [
    "- ✅ This fetches historical stock data from Yahoo Finance.\n",
    "- ✅ Columns include: Open, High, Low, Close, Adj Close, and Volume."
   ]
  },
  {
   "cell_type": "code",
   "execution_count": 2,
   "metadata": {},
   "outputs": [
    {
     "name": "stdout",
     "output_type": "stream",
     "text": [
      "YF.download() has changed argument auto_adjust default to True\n"
     ]
    },
    {
     "name": "stderr",
     "output_type": "stream",
     "text": [
      "[*********************100%***********************]  1 of 1 completed\n"
     ]
    },
    {
     "data": {
      "text/html": [
       "<div>\n",
       "<style scoped>\n",
       "    .dataframe tbody tr th:only-of-type {\n",
       "        vertical-align: middle;\n",
       "    }\n",
       "\n",
       "    .dataframe tbody tr th {\n",
       "        vertical-align: top;\n",
       "    }\n",
       "\n",
       "    .dataframe thead tr th {\n",
       "        text-align: left;\n",
       "    }\n",
       "\n",
       "    .dataframe thead tr:last-of-type th {\n",
       "        text-align: right;\n",
       "    }\n",
       "</style>\n",
       "<table border=\"1\" class=\"dataframe\">\n",
       "  <thead>\n",
       "    <tr>\n",
       "      <th>Price</th>\n",
       "      <th>Close</th>\n",
       "      <th>High</th>\n",
       "      <th>Low</th>\n",
       "      <th>Open</th>\n",
       "      <th>Volume</th>\n",
       "    </tr>\n",
       "    <tr>\n",
       "      <th>Ticker</th>\n",
       "      <th>AAPL</th>\n",
       "      <th>AAPL</th>\n",
       "      <th>AAPL</th>\n",
       "      <th>AAPL</th>\n",
       "      <th>AAPL</th>\n",
       "    </tr>\n",
       "    <tr>\n",
       "      <th>Date</th>\n",
       "      <th></th>\n",
       "      <th></th>\n",
       "      <th></th>\n",
       "      <th></th>\n",
       "      <th></th>\n",
       "    </tr>\n",
       "  </thead>\n",
       "  <tbody>\n",
       "    <tr>\n",
       "      <th>2020-04-03</th>\n",
       "      <td>58.585148</td>\n",
       "      <td>59.626239</td>\n",
       "      <td>57.993010</td>\n",
       "      <td>58.922472</td>\n",
       "      <td>129880000</td>\n",
       "    </tr>\n",
       "    <tr>\n",
       "      <th>2020-04-06</th>\n",
       "      <td>63.695953</td>\n",
       "      <td>63.851264</td>\n",
       "      <td>60.519286</td>\n",
       "      <td>60.888156</td>\n",
       "      <td>201820400</td>\n",
       "    </tr>\n",
       "    <tr>\n",
       "      <th>2020-04-07</th>\n",
       "      <td>62.958221</td>\n",
       "      <td>65.935898</td>\n",
       "      <td>62.853871</td>\n",
       "      <td>65.717481</td>\n",
       "      <td>202887200</td>\n",
       "    </tr>\n",
       "    <tr>\n",
       "      <th>2020-04-08</th>\n",
       "      <td>64.569618</td>\n",
       "      <td>64.885098</td>\n",
       "      <td>63.395052</td>\n",
       "      <td>63.761493</td>\n",
       "      <td>168895200</td>\n",
       "    </tr>\n",
       "    <tr>\n",
       "      <th>2020-04-09</th>\n",
       "      <td>65.035553</td>\n",
       "      <td>65.540330</td>\n",
       "      <td>64.237144</td>\n",
       "      <td>65.207860</td>\n",
       "      <td>161834800</td>\n",
       "    </tr>\n",
       "  </tbody>\n",
       "</table>\n",
       "</div>"
      ],
      "text/plain": [
       "Price           Close       High        Low       Open     Volume\n",
       "Ticker           AAPL       AAPL       AAPL       AAPL       AAPL\n",
       "Date                                                             \n",
       "2020-04-03  58.585148  59.626239  57.993010  58.922472  129880000\n",
       "2020-04-06  63.695953  63.851264  60.519286  60.888156  201820400\n",
       "2020-04-07  62.958221  65.935898  62.853871  65.717481  202887200\n",
       "2020-04-08  64.569618  64.885098  63.395052  63.761493  168895200\n",
       "2020-04-09  65.035553  65.540330  64.237144  65.207860  161834800"
      ]
     },
     "execution_count": 2,
     "metadata": {},
     "output_type": "execute_result"
    }
   ],
   "source": [
    "# Define the stock symbol (e.g., Apple - AAPL)\n",
    "stock_symbol = \"AAPL\"\n",
    "\n",
    "# Fetch historical stock data (last 1 year)\n",
    "stock_data = yf.download(stock_symbol, period=\"5y\", interval=\"1d\")\n",
    "\n",
    "# Display the first few rows\n",
    "stock_data.head()"
   ]
  },
  {
   "cell_type": "markdown",
   "metadata": {},
   "source": [
    "#### **📌 Step 2: Data Cleaning**"
   ]
  },
  {
   "cell_type": "code",
   "execution_count": 3,
   "metadata": {},
   "outputs": [],
   "source": [
    "stock_data.columns = [col[0] for col in stock_data.columns]"
   ]
  },
  {
   "cell_type": "code",
   "execution_count": 4,
   "metadata": {},
   "outputs": [
    {
     "data": {
      "text/html": [
       "<div>\n",
       "<style scoped>\n",
       "    .dataframe tbody tr th:only-of-type {\n",
       "        vertical-align: middle;\n",
       "    }\n",
       "\n",
       "    .dataframe tbody tr th {\n",
       "        vertical-align: top;\n",
       "    }\n",
       "\n",
       "    .dataframe thead th {\n",
       "        text-align: right;\n",
       "    }\n",
       "</style>\n",
       "<table border=\"1\" class=\"dataframe\">\n",
       "  <thead>\n",
       "    <tr style=\"text-align: right;\">\n",
       "      <th></th>\n",
       "      <th>Close</th>\n",
       "      <th>High</th>\n",
       "      <th>Low</th>\n",
       "      <th>Open</th>\n",
       "      <th>Volume</th>\n",
       "    </tr>\n",
       "    <tr>\n",
       "      <th>Date</th>\n",
       "      <th></th>\n",
       "      <th></th>\n",
       "      <th></th>\n",
       "      <th></th>\n",
       "      <th></th>\n",
       "    </tr>\n",
       "  </thead>\n",
       "  <tbody>\n",
       "    <tr>\n",
       "      <th>2020-04-03</th>\n",
       "      <td>58.585148</td>\n",
       "      <td>59.626239</td>\n",
       "      <td>57.993010</td>\n",
       "      <td>58.922472</td>\n",
       "      <td>129880000</td>\n",
       "    </tr>\n",
       "    <tr>\n",
       "      <th>2020-04-06</th>\n",
       "      <td>63.695953</td>\n",
       "      <td>63.851264</td>\n",
       "      <td>60.519286</td>\n",
       "      <td>60.888156</td>\n",
       "      <td>201820400</td>\n",
       "    </tr>\n",
       "  </tbody>\n",
       "</table>\n",
       "</div>"
      ],
      "text/plain": [
       "                Close       High        Low       Open     Volume\n",
       "Date                                                             \n",
       "2020-04-03  58.585148  59.626239  57.993010  58.922472  129880000\n",
       "2020-04-06  63.695953  63.851264  60.519286  60.888156  201820400"
      ]
     },
     "execution_count": 4,
     "metadata": {},
     "output_type": "execute_result"
    }
   ],
   "source": [
    "stock_data.head(2)"
   ]
  },
  {
   "cell_type": "code",
   "execution_count": 5,
   "metadata": {},
   "outputs": [
    {
     "data": {
      "text/plain": [
       "(1256, 5)"
      ]
     },
     "execution_count": 5,
     "metadata": {},
     "output_type": "execute_result"
    }
   ],
   "source": [
    "stock_data.shape"
   ]
  },
  {
   "cell_type": "markdown",
   "metadata": {},
   "source": [
    "- 1️⃣ Check for missing values"
   ]
  },
  {
   "cell_type": "code",
   "execution_count": 6,
   "metadata": {},
   "outputs": [
    {
     "name": "stdout",
     "output_type": "stream",
     "text": [
      "Missing Values:\n",
      " Close     0\n",
      "High      0\n",
      "Low       0\n",
      "Open      0\n",
      "Volume    0\n",
      "dtype: int64\n"
     ]
    }
   ],
   "source": [
    "missing_values = stock_data.isnull().sum()\n",
    "print(\"Missing Values:\\n\", missing_values)"
   ]
  },
  {
   "cell_type": "markdown",
   "metadata": {},
   "source": [
    "- 2️⃣ Handle missing values (Forward Fill method)"
   ]
  },
  {
   "cell_type": "code",
   "execution_count": 7,
   "metadata": {},
   "outputs": [
    {
     "name": "stderr",
     "output_type": "stream",
     "text": [
      "/tmp/ipykernel_7712/2907547834.py:1: FutureWarning: DataFrame.fillna with 'method' is deprecated and will raise in a future version. Use obj.ffill() or obj.bfill() instead.\n",
      "  stock_data.fillna(method='ffill', inplace=True)\n"
     ]
    }
   ],
   "source": [
    "stock_data.fillna(method='ffill', inplace=True)"
   ]
  },
  {
   "cell_type": "markdown",
   "metadata": {},
   "source": [
    "- 3️⃣ Check for duplicates"
   ]
  },
  {
   "cell_type": "code",
   "execution_count": 8,
   "metadata": {},
   "outputs": [
    {
     "name": "stdout",
     "output_type": "stream",
     "text": [
      "\n",
      "Duplicate Rows: 0\n"
     ]
    }
   ],
   "source": [
    "duplicates = stock_data.duplicated().sum()\n",
    "print(\"\\nDuplicate Rows:\", duplicates)"
   ]
  },
  {
   "cell_type": "markdown",
   "metadata": {},
   "source": [
    "- 4️⃣ Convert Index to DateTime Format"
   ]
  },
  {
   "cell_type": "code",
   "execution_count": 9,
   "metadata": {},
   "outputs": [],
   "source": [
    "stock_data.index = pd.to_datetime(stock_data.index)"
   ]
  },
  {
   "cell_type": "markdown",
   "metadata": {},
   "source": [
    "- 5️⃣ Remove outliers using IQR method"
   ]
  },
  {
   "cell_type": "code",
   "execution_count": 10,
   "metadata": {},
   "outputs": [],
   "source": [
    "Q1 = stock_data['Close'].quantile(0.25)\n",
    "Q3 = stock_data['Close'].quantile(0.75)\n",
    "\n",
    "IQR = Q3 - Q1\n",
    "\n",
    "lower_bound = Q1 - 1.5 * IQR\n",
    "upper_bound = Q3 + 1.5 * IQR"
   ]
  },
  {
   "cell_type": "code",
   "execution_count": 11,
   "metadata": {},
   "outputs": [
    {
     "data": {
      "text/plain": [
       "(0, 5)"
      ]
     },
     "execution_count": 11,
     "metadata": {},
     "output_type": "execute_result"
    }
   ],
   "source": [
    "stock_data[(stock_data['Close'] <= lower_bound) & (stock_data['Close'] >= upper_bound)].shape"
   ]
  },
  {
   "cell_type": "code",
   "execution_count": 12,
   "metadata": {},
   "outputs": [],
   "source": [
    "stock_data = stock_data[(stock_data['Close'] >= lower_bound) & (stock_data['Close'] <= upper_bound)]"
   ]
  },
  {
   "cell_type": "markdown",
   "metadata": {},
   "source": [
    "- 6️⃣ Check data types"
   ]
  },
  {
   "cell_type": "code",
   "execution_count": 13,
   "metadata": {},
   "outputs": [
    {
     "name": "stdout",
     "output_type": "stream",
     "text": [
      "\n",
      "Data Types:\n",
      " Close     float64\n",
      "High      float64\n",
      "Low       float64\n",
      "Open      float64\n",
      "Volume      int64\n",
      "dtype: object\n"
     ]
    }
   ],
   "source": [
    "print(\"\\nData Types:\\n\", stock_data.dtypes)"
   ]
  },
  {
   "cell_type": "markdown",
   "metadata": {},
   "source": [
    "- Display cleaned data"
   ]
  },
  {
   "cell_type": "code",
   "execution_count": 14,
   "metadata": {},
   "outputs": [
    {
     "data": {
      "text/html": [
       "<div>\n",
       "<style scoped>\n",
       "    .dataframe tbody tr th:only-of-type {\n",
       "        vertical-align: middle;\n",
       "    }\n",
       "\n",
       "    .dataframe tbody tr th {\n",
       "        vertical-align: top;\n",
       "    }\n",
       "\n",
       "    .dataframe thead th {\n",
       "        text-align: right;\n",
       "    }\n",
       "</style>\n",
       "<table border=\"1\" class=\"dataframe\">\n",
       "  <thead>\n",
       "    <tr style=\"text-align: right;\">\n",
       "      <th></th>\n",
       "      <th>Close</th>\n",
       "      <th>High</th>\n",
       "      <th>Low</th>\n",
       "      <th>Open</th>\n",
       "      <th>Volume</th>\n",
       "    </tr>\n",
       "    <tr>\n",
       "      <th>Date</th>\n",
       "      <th></th>\n",
       "      <th></th>\n",
       "      <th></th>\n",
       "      <th></th>\n",
       "      <th></th>\n",
       "    </tr>\n",
       "  </thead>\n",
       "  <tbody>\n",
       "    <tr>\n",
       "      <th>2020-04-03</th>\n",
       "      <td>58.585148</td>\n",
       "      <td>59.626239</td>\n",
       "      <td>57.993010</td>\n",
       "      <td>58.922472</td>\n",
       "      <td>129880000</td>\n",
       "    </tr>\n",
       "    <tr>\n",
       "      <th>2020-04-06</th>\n",
       "      <td>63.695953</td>\n",
       "      <td>63.851264</td>\n",
       "      <td>60.519286</td>\n",
       "      <td>60.888156</td>\n",
       "      <td>201820400</td>\n",
       "    </tr>\n",
       "    <tr>\n",
       "      <th>2020-04-07</th>\n",
       "      <td>62.958221</td>\n",
       "      <td>65.935898</td>\n",
       "      <td>62.853871</td>\n",
       "      <td>65.717481</td>\n",
       "      <td>202887200</td>\n",
       "    </tr>\n",
       "    <tr>\n",
       "      <th>2020-04-08</th>\n",
       "      <td>64.569618</td>\n",
       "      <td>64.885098</td>\n",
       "      <td>63.395052</td>\n",
       "      <td>63.761493</td>\n",
       "      <td>168895200</td>\n",
       "    </tr>\n",
       "    <tr>\n",
       "      <th>2020-04-09</th>\n",
       "      <td>65.035553</td>\n",
       "      <td>65.540330</td>\n",
       "      <td>64.237144</td>\n",
       "      <td>65.207860</td>\n",
       "      <td>161834800</td>\n",
       "    </tr>\n",
       "  </tbody>\n",
       "</table>\n",
       "</div>"
      ],
      "text/plain": [
       "                Close       High        Low       Open     Volume\n",
       "Date                                                             \n",
       "2020-04-03  58.585148  59.626239  57.993010  58.922472  129880000\n",
       "2020-04-06  63.695953  63.851264  60.519286  60.888156  201820400\n",
       "2020-04-07  62.958221  65.935898  62.853871  65.717481  202887200\n",
       "2020-04-08  64.569618  64.885098  63.395052  63.761493  168895200\n",
       "2020-04-09  65.035553  65.540330  64.237144  65.207860  161834800"
      ]
     },
     "execution_count": 14,
     "metadata": {},
     "output_type": "execute_result"
    }
   ],
   "source": [
    "stock_data.head()"
   ]
  },
  {
   "cell_type": "code",
   "execution_count": 15,
   "metadata": {},
   "outputs": [
    {
     "data": {
      "text/plain": [
       "(1256, 5)"
      ]
     },
     "execution_count": 15,
     "metadata": {},
     "output_type": "execute_result"
    }
   ],
   "source": [
    "stock_data.shape"
   ]
  },
  {
   "cell_type": "markdown",
   "metadata": {},
   "source": [
    "**📌 What we have done?**\n",
    "- ✅ Handles missing values using Forward Fill (previous value replaces NaN).\n",
    "- ✅ Removes duplicate rows if found.\n",
    "- ✅ Ensures DateTime indexing for time series analysis.\n",
    "- ✅ Removes outliers using Interquartile Range (IQR) method."
   ]
  },
  {
   "cell_type": "markdown",
   "metadata": {},
   "source": [
    "## **📌 Step 3: Feature Engineering**"
   ]
  },
  {
   "cell_type": "markdown",
   "metadata": {},
   "source": [
    "- 1️⃣ Calculate Daily Returns (Percentage Change)"
   ]
  },
  {
   "cell_type": "code",
   "execution_count": 16,
   "metadata": {},
   "outputs": [],
   "source": [
    "stock_data['Daily_Return'] = stock_data['Close'].pct_change()"
   ]
  },
  {
   "cell_type": "markdown",
   "metadata": {},
   "source": [
    "- 2️⃣ Calculate Logarithmic Returns"
   ]
  },
  {
   "cell_type": "code",
   "execution_count": 17,
   "metadata": {},
   "outputs": [],
   "source": [
    "stock_data['Log_Return'] = np.log(stock_data['Close'] / stock_data['Close'].shift(1))"
   ]
  },
  {
   "cell_type": "markdown",
   "metadata": {},
   "source": [
    "- 3️⃣ Compute Cumulative Return"
   ]
  },
  {
   "cell_type": "code",
   "execution_count": 18,
   "metadata": {},
   "outputs": [],
   "source": [
    "stock_data['Cumulative_Return'] = (1 + stock_data['Daily_Return']).cumprod()"
   ]
  },
  {
   "cell_type": "markdown",
   "metadata": {},
   "source": [
    "- 4️⃣ Compute Moving Averages (Momentum Indicators)"
   ]
  },
  {
   "cell_type": "code",
   "execution_count": 19,
   "metadata": {},
   "outputs": [],
   "source": [
    "stock_data['MA_10'] = stock_data['Close'].rolling(window=10).mean()\n",
    "stock_data['MA_20'] = stock_data['Close'].rolling(window=20).mean()\n",
    "stock_data['MA_50'] = stock_data['Close'].rolling(window=50).mean()"
   ]
  },
  {
   "cell_type": "markdown",
   "metadata": {},
   "source": [
    "- 5️⃣ Compute Rolling Volatility (Risk Indicator)"
   ]
  },
  {
   "cell_type": "code",
   "execution_count": 20,
   "metadata": {},
   "outputs": [],
   "source": [
    "stock_data['Rolling_Volatility'] = stock_data['Daily_Return'].rolling(window=20).std()"
   ]
  },
  {
   "cell_type": "markdown",
   "metadata": {},
   "source": [
    "- 6️⃣ Compute Bollinger Bands"
   ]
  },
  {
   "cell_type": "code",
   "execution_count": 21,
   "metadata": {},
   "outputs": [],
   "source": [
    "stock_data['Bollinger_Upper'] = stock_data['MA_20'] + (stock_data['Rolling_Volatility'] * 2)\n",
    "stock_data['Bollinger_Lower'] = stock_data['MA_20'] - (stock_data['Rolling_Volatility'] * 2)"
   ]
  },
  {
   "cell_type": "code",
   "execution_count": 22,
   "metadata": {},
   "outputs": [
    {
     "data": {
      "text/html": [
       "<div>\n",
       "<style scoped>\n",
       "    .dataframe tbody tr th:only-of-type {\n",
       "        vertical-align: middle;\n",
       "    }\n",
       "\n",
       "    .dataframe tbody tr th {\n",
       "        vertical-align: top;\n",
       "    }\n",
       "\n",
       "    .dataframe thead th {\n",
       "        text-align: right;\n",
       "    }\n",
       "</style>\n",
       "<table border=\"1\" class=\"dataframe\">\n",
       "  <thead>\n",
       "    <tr style=\"text-align: right;\">\n",
       "      <th></th>\n",
       "      <th>Close</th>\n",
       "      <th>High</th>\n",
       "      <th>Low</th>\n",
       "      <th>Open</th>\n",
       "      <th>Volume</th>\n",
       "      <th>Daily_Return</th>\n",
       "      <th>Log_Return</th>\n",
       "      <th>Cumulative_Return</th>\n",
       "      <th>MA_10</th>\n",
       "      <th>MA_20</th>\n",
       "      <th>MA_50</th>\n",
       "      <th>Rolling_Volatility</th>\n",
       "      <th>Bollinger_Upper</th>\n",
       "      <th>Bollinger_Lower</th>\n",
       "    </tr>\n",
       "    <tr>\n",
       "      <th>Date</th>\n",
       "      <th></th>\n",
       "      <th></th>\n",
       "      <th></th>\n",
       "      <th></th>\n",
       "      <th></th>\n",
       "      <th></th>\n",
       "      <th></th>\n",
       "      <th></th>\n",
       "      <th></th>\n",
       "      <th></th>\n",
       "      <th></th>\n",
       "      <th></th>\n",
       "      <th></th>\n",
       "      <th></th>\n",
       "    </tr>\n",
       "  </thead>\n",
       "  <tbody>\n",
       "    <tr>\n",
       "      <th>2020-06-15</th>\n",
       "      <td>83.461800</td>\n",
       "      <td>84.116374</td>\n",
       "      <td>80.928671</td>\n",
       "      <td>81.091710</td>\n",
       "      <td>138808800</td>\n",
       "      <td>0.012367</td>\n",
       "      <td>0.012291</td>\n",
       "      <td>1.424624</td>\n",
       "      <td>81.523868</td>\n",
       "      <td>79.403079</td>\n",
       "      <td>73.428827</td>\n",
       "      <td>0.017502</td>\n",
       "      <td>79.438083</td>\n",
       "      <td>79.368076</td>\n",
       "    </tr>\n",
       "    <tr>\n",
       "      <th>2020-06-16</th>\n",
       "      <td>85.673706</td>\n",
       "      <td>85.946249</td>\n",
       "      <td>83.882757</td>\n",
       "      <td>85.522839</td>\n",
       "      <td>165428800</td>\n",
       "      <td>0.026502</td>\n",
       "      <td>0.026157</td>\n",
       "      <td>1.462379</td>\n",
       "      <td>82.223213</td>\n",
       "      <td>79.854710</td>\n",
       "      <td>73.970598</td>\n",
       "      <td>0.017672</td>\n",
       "      <td>79.890055</td>\n",
       "      <td>79.819366</td>\n",
       "    </tr>\n",
       "    <tr>\n",
       "      <th>2020-06-17</th>\n",
       "      <td>85.554489</td>\n",
       "      <td>86.481599</td>\n",
       "      <td>85.432821</td>\n",
       "      <td>86.420765</td>\n",
       "      <td>114406400</td>\n",
       "      <td>-0.001392</td>\n",
       "      <td>-0.001392</td>\n",
       "      <td>1.460344</td>\n",
       "      <td>82.867325</td>\n",
       "      <td>80.322523</td>\n",
       "      <td>74.407769</td>\n",
       "      <td>0.017549</td>\n",
       "      <td>80.357620</td>\n",
       "      <td>80.287425</td>\n",
       "    </tr>\n",
       "    <tr>\n",
       "      <th>2020-06-18</th>\n",
       "      <td>85.588554</td>\n",
       "      <td>86.007093</td>\n",
       "      <td>84.977779</td>\n",
       "      <td>85.510685</td>\n",
       "      <td>96820400</td>\n",
       "      <td>0.000398</td>\n",
       "      <td>0.000398</td>\n",
       "      <td>1.460926</td>\n",
       "      <td>83.582976</td>\n",
       "      <td>80.717944</td>\n",
       "      <td>74.860376</td>\n",
       "      <td>0.017293</td>\n",
       "      <td>80.752529</td>\n",
       "      <td>80.683358</td>\n",
       "    </tr>\n",
       "    <tr>\n",
       "      <th>2020-06-19</th>\n",
       "      <td>85.099449</td>\n",
       "      <td>86.763866</td>\n",
       "      <td>83.987402</td>\n",
       "      <td>86.296665</td>\n",
       "      <td>264476000</td>\n",
       "      <td>-0.005715</td>\n",
       "      <td>-0.005731</td>\n",
       "      <td>1.452577</td>\n",
       "      <td>84.026334</td>\n",
       "      <td>81.117865</td>\n",
       "      <td>75.270972</td>\n",
       "      <td>0.017231</td>\n",
       "      <td>81.152328</td>\n",
       "      <td>81.083403</td>\n",
       "    </tr>\n",
       "  </tbody>\n",
       "</table>\n",
       "</div>"
      ],
      "text/plain": [
       "                Close       High        Low       Open     Volume  \\\n",
       "Date                                                                \n",
       "2020-06-15  83.461800  84.116374  80.928671  81.091710  138808800   \n",
       "2020-06-16  85.673706  85.946249  83.882757  85.522839  165428800   \n",
       "2020-06-17  85.554489  86.481599  85.432821  86.420765  114406400   \n",
       "2020-06-18  85.588554  86.007093  84.977779  85.510685   96820400   \n",
       "2020-06-19  85.099449  86.763866  83.987402  86.296665  264476000   \n",
       "\n",
       "            Daily_Return  Log_Return  Cumulative_Return      MA_10      MA_20  \\\n",
       "Date                                                                            \n",
       "2020-06-15      0.012367    0.012291           1.424624  81.523868  79.403079   \n",
       "2020-06-16      0.026502    0.026157           1.462379  82.223213  79.854710   \n",
       "2020-06-17     -0.001392   -0.001392           1.460344  82.867325  80.322523   \n",
       "2020-06-18      0.000398    0.000398           1.460926  83.582976  80.717944   \n",
       "2020-06-19     -0.005715   -0.005731           1.452577  84.026334  81.117865   \n",
       "\n",
       "                MA_50  Rolling_Volatility  Bollinger_Upper  Bollinger_Lower  \n",
       "Date                                                                         \n",
       "2020-06-15  73.428827            0.017502        79.438083        79.368076  \n",
       "2020-06-16  73.970598            0.017672        79.890055        79.819366  \n",
       "2020-06-17  74.407769            0.017549        80.357620        80.287425  \n",
       "2020-06-18  74.860376            0.017293        80.752529        80.683358  \n",
       "2020-06-19  75.270972            0.017231        81.152328        81.083403  "
      ]
     },
     "execution_count": 22,
     "metadata": {},
     "output_type": "execute_result"
    }
   ],
   "source": [
    "# Drop NaN values after feature engineering\n",
    "stock_data.dropna(inplace=True)\n",
    "\n",
    "# Display cleaned, feature-engineered dataset\n",
    "stock_data.head()"
   ]
  },
  {
   "cell_type": "code",
   "execution_count": 23,
   "metadata": {},
   "outputs": [],
   "source": [
    "# Save cleaned & feature-engineered dataset\n",
    "stock_data.to_csv(f\"{os.path.join(\"../data/\")}AAPL_processed.csv\", index=True)"
   ]
  }
 ],
 "metadata": {
  "kernelspec": {
   "display_name": "env",
   "language": "python",
   "name": "python3"
  },
  "language_info": {
   "codemirror_mode": {
    "name": "ipython",
    "version": 3
   },
   "file_extension": ".py",
   "mimetype": "text/x-python",
   "name": "python",
   "nbconvert_exporter": "python",
   "pygments_lexer": "ipython3",
   "version": "3.12.3"
  }
 },
 "nbformat": 4,
 "nbformat_minor": 2
}
